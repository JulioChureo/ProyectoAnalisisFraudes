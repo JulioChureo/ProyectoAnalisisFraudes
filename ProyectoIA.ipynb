{
 "cells": [
  {
   "cell_type": "code",
   "execution_count": 1,
   "id": "0e4bca07-c2af-4581-b718-35cde3ffac7e",
   "metadata": {},
   "outputs": [
    {
     "name": "stdout",
     "output_type": "stream",
     "text": [
      "Librerias importadas correctamente\n"
     ]
    }
   ],
   "source": [
    "# Importación de Librerias base\n",
    "\n",
    "import pandas as pd\n",
    "import numpy as np\n",
    "import matplotlib.pyplot as plt\n",
    "import seaborn as sns\n",
    "import joblib\n",
    "\n",
    "# Módulos de Scikit-learn para procesamiento y división\n",
    "\n",
    "from sklearn.model_selection import train_test_split\n",
    "from sklearn.preprocessing import StandardScaler\n",
    "\n",
    "#Módulos de Scikit-learn para el modelo y métricas\n",
    "from sklearn.neural_network import MLPClassifier\n",
    "from sklearn.metrics import (\n",
    "    roc_auc_score,\n",
    "    precision_recall_curve,\n",
    "    classification_report,\n",
    "    confusion_matrix,\n",
    "    ConfusionMatrixDisplay\n",
    ")\n",
    "\n",
    "from imblearn.over_sampling import SMOTE \n",
    "\n",
    "print (\"Librerias importadas correctamente\")"
   ]
  },
  {
   "cell_type": "code",
   "execution_count": null,
   "id": "1ccbc8a4",
   "metadata": {},
   "outputs": [
    {
     "name": "stdout",
     "output_type": "stream",
     "text": [
      "Dataser cargado exitosamente.\n",
      "Forma del dataset: (284807, 31)\n",
      "\n",
      "Distribución de clases (Fraude = 1, No Fraude =0):\n",
      "Class\n",
      "0    0.998273\n",
      "1    0.001727\n",
      "Name: proportion, dtype: float64\n",
      "\n",
      "Estadisticas de la columna 'Amount'\n",
      "count    284807.000000\n",
      "mean         88.349619\n",
      "std         250.120109\n",
      "min           0.000000\n",
      "25%           5.600000\n",
      "50%          22.000000\n",
      "75%          77.165000\n",
      "max       25691.160000\n",
      "Name: Amount, dtype: float64\n"
     ]
    }
   ],
   "source": [
    "# Carga de datos\n",
    "\n",
    "try:\n",
    "    df=pd.read_csv(\"creditcard.csv\")\n",
    "    print(\"Dataset cargado exitosamente.\")\n",
    "except:\n",
    "    print (\"Error: El archivo 'creditcard.csv' no se encontró\")\n",
    "    print (\"Asegurese de que el archivo esté en la misma carpeta que el notebook\")\n",
    "    \n",
    "#EDA básico\n",
    "\n",
    "if 'df' in locals():\n",
    "    print(f\"Forma del dataset: {df.shape}\")\n",
    "    print(\"\\nDistribución de clases (Fraude = 1, No Fraude =0):\")\n",
    "    \n",
    "    #Verificación del 0.172% de fraude\n",
    "    print(df['Class'].value_counts(normalize=True))\n",
    "    \n",
    "    print(\"\\nEstadisticas de la columna 'Amount'\")\n",
    "    print(df['Amount'].describe())"
   ]
  },
  {
   "cell_type": "code",
   "execution_count": 3,
   "id": "fe00d2cc",
   "metadata": {},
   "outputs": [
    {
     "name": "stdout",
     "output_type": "stream",
     "text": [
      "Tamaño Train: (227845, 29), Tamaño Test:(56962, 29)\n",
      "Datos escalados (StandardScaler)\n"
     ]
    }
   ],
   "source": [
    "# Separación de Features (X) y Target (Y)\n",
    "# Se excluyen 'Time' y 'Class'\n",
    "\n",
    "X= df.drop(columns=['Class','Time'])\n",
    "Y = df['Class']\n",
    "\n",
    "#División Train/Test\n",
    "\n",
    "X_train, X_test, Y_train, Y_test = train_test_split(\n",
    "    X,Y,\n",
    "    test_size=0.2,\n",
    "    stratify= Y,\n",
    "    random_state=42\n",
    ")\n",
    "\n",
    "print(f\"Tamaño Train: {X_train.shape}, Tamaño Test:{X_test.shape}\")\n",
    "\n",
    "#Escalado de datos\n",
    "#Crítico para 'Amount' y las features 'Y'\n",
    "scaler= StandardScaler()\n",
    "X_train_scaled= scaler.fit_transform(X_train)\n",
    "X_test_scaled= scaler.transform(X_test)\n",
    "\n",
    "print(\"Datos escalados (StandardScaler)\")"
   ]
  },
  {
   "cell_type": "code",
   "execution_count": 4,
   "id": "6c128897",
   "metadata": {},
   "outputs": [
    {
     "name": "stdout",
     "output_type": "stream",
     "text": [
      "Aplicando SMOTE al conjunto de entrenamiento...\n",
      "Forma original de X_train: (227845, 29)\n",
      "Forma re-muestreada (SMOTE) de X_train: (454902, 29)\n",
      "\n",
      "Distribuición de clases despues de SMOTE:\n",
      "Class\n",
      "0    0.5\n",
      "1    0.5\n",
      "Name: proportion, dtype: float64\n"
     ]
    }
   ],
   "source": [
    "#Manejo del desbalance (SMOTE)\n",
    "#Aplicar SMOTE solo al conjunto de entrenamiento\n",
    "\n",
    "print(\"Aplicando SMOTE al conjunto de entrenamiento...\")\n",
    "sm = SMOTE(random_state=42)\n",
    "X_res, Y_res= sm.fit_resample(X_train_scaled, Y_train)\n",
    "\n",
    "print(f\"Forma original de X_train: {X_train_scaled.shape}\")\n",
    "print(f\"Forma re-muestreada (SMOTE) de X_train: {X_res.shape}\")\n",
    "print(\"\\nDistribuición de clases despues de SMOTE:\")\n",
    "print (pd.Series(Y_res).value_counts(normalize=True))"
   ]
  },
  {
   "cell_type": "code",
   "execution_count": 5,
   "id": "5ecd56eb",
   "metadata": {},
   "outputs": [
    {
     "name": "stdout",
     "output_type": "stream",
     "text": [
      "Iniciando entranmiento del MLPClassifier...\n",
      "Iteration 1, loss = 0.04348495\n",
      "Validation score: 0.997736\n",
      "Iteration 2, loss = 0.00600456\n",
      "Validation score: 0.999253\n",
      "Iteration 3, loss = 0.00369455\n",
      "Validation score: 0.999319\n",
      "Iteration 4, loss = 0.00285635\n",
      "Validation score: 0.999494\n",
      "Iteration 5, loss = 0.00223885\n",
      "Validation score: 0.999604\n",
      "Iteration 6, loss = 0.00215017\n",
      "Validation score: 0.999604\n",
      "Iteration 7, loss = 0.00165115\n",
      "Validation score: 0.999406\n",
      "Iteration 8, loss = 0.00196276\n",
      "Validation score: 0.999538\n",
      "Iteration 9, loss = 0.00151885\n",
      "Validation score: 0.999363\n",
      "Iteration 10, loss = 0.00139817\n",
      "Validation score: 0.999428\n",
      "Iteration 11, loss = 0.00141774\n",
      "Validation score: 0.999472\n",
      "Iteration 12, loss = 0.00142325\n",
      "Validation score: 0.999692\n",
      "Iteration 13, loss = 0.00118968\n",
      "Validation score: 0.999648\n",
      "Iteration 14, loss = 0.00132106\n",
      "Validation score: 0.999758\n",
      "Iteration 15, loss = 0.00113471\n",
      "Validation score: 0.999604\n",
      "Iteration 16, loss = 0.00126427\n",
      "Validation score: 0.999714\n",
      "Validation score did not improve more than tol=0.000100 for 10 consecutive epochs. Stopping.\n",
      "Entrenamiento del MLP finalizado.\n",
      "Modelo y Scaler gurdados en 'modelo_mlp_fraude.joblib' y 'scaler_fraude.joblib'\n"
     ]
    }
   ],
   "source": [
    "#Entrenamiento del Modelo: Red Neuronal (MLPClassifier)\n",
    "print(\"Iniciando entranmiento del MLPClassifier...\")\n",
    "\n",
    "mlp_clf = MLPClassifier(\n",
    "    hidden_layer_sizes=(64, 32), #Arquitectura de dos capas\n",
    "    max_iter=500,\n",
    "    activation='relu',\n",
    "    solver='adam',\n",
    "    random_state=42,\n",
    "    early_stopping=True,\n",
    "    verbose=True\n",
    ")\n",
    "\n",
    "#Entrenamiento sobre los datos re-muestrados (SMOTE)\n",
    "\n",
    "mlp_clf.fit(X_res,Y_res)\n",
    "\n",
    "print(\"Entrenamiento del MLP finalizado.\")\n",
    "\n",
    "#Guardado del modelo entrenado\n",
    "\n",
    "joblib.dump(mlp_clf,'modelo_mlp_fraude.joblib')\n",
    "joblib.dump(scaler,'scaler_fraude.joblib')\n",
    "print (\"Modelo y Scaler gurdados en 'modelo_mlp_fraude.joblib' y 'scaler_fraude.joblib'\")"
   ]
  },
  {
   "cell_type": "code",
   "execution_count": 6,
   "id": "e59f0106",
   "metadata": {},
   "outputs": [
    {
     "name": "stdout",
     "output_type": "stream",
     "text": [
      "\n",
      "--- Evaluación del Modelo MLP sobre Datos de Prueba (Test) ---\n",
      "AUC-ROC: 0.966686\n",
      "\n",
      "Reporte de Clasificación (Umbral 0.5):\n",
      "              precision    recall  f1-score   support\n",
      "\n",
      "   No Fraude       1.00      1.00      1.00     56864\n",
      "      Fraude       0.72      0.85      0.78        98\n",
      "\n",
      "    accuracy                           1.00     56962\n",
      "   macro avg       0.86      0.92      0.89     56962\n",
      "weighted avg       1.00      1.00      1.00     56962\n",
      "\n"
     ]
    },
    {
     "data": {
      "image/png": "[encoded data removed]",
      "text/plain": [
       "<Figure size 640x480 with 2 Axes>"
      ]
     },
     "metadata": {},
     "output_type": "display_data"
    },
    {
     "data": {
      "image/png": "[encoded data removed]",
      "text/plain": [
       "<Figure size 1000x700 with 1 Axes>"
      ]
     },
     "metadata": {},
     "output_type": "display_data"
    },
    {
     "name": "stdout",
     "output_type": "stream",
     "text": [
      "--- Fin de la Evaluación ---\n"
     ]
    }
   ],
   "source": [
    "#Evaluación (sobre el conjunto del test original, no balanceado)\n",
    "print(\"\\n--- Evaluación del Modelo MLP sobre Datos de Prueba (Test) ---\")\n",
    "\n",
    "y_proba_mlp= mlp_clf.predict_proba(X_test_scaled)[:,1]\n",
    "y_pred_default = mlp_clf.predict(X_test_scaled)\n",
    "\n",
    "#a) AUC-ROC\n",
    "auc= roc_auc_score(Y_test, y_proba_mlp)\n",
    "print(f\"AUC-ROC: {auc:4f}\")\n",
    "\n",
    "#b) Reporte de Clasificación (Umbral 0.5)\n",
    "print(\"\\nReporte de Clasificación (Umbral 0.5):\")\n",
    "print(classification_report(Y_test, y_pred_default, target_names=['No Fraude','Fraude']))\n",
    "\n",
    "#c) Matriz de Confusión (Umbral 0.5)\n",
    "cm = confusion_matrix(Y_test, y_pred_default)\n",
    "disp= ConfusionMatrixDisplay(confusion_matrix=cm, display_labels=['No Fraude', 'Fraude'])\n",
    "disp.plot (cmap='Blues')\n",
    "plt.title('Matriz de Confusión (Umbral 0.5)')\n",
    "plt.show()\n",
    "\n",
    "#d) Curva Precisión-Recall\n",
    "#Esta es la curva más relevante para data desbalanceada\n",
    "\n",
    "precision,recall, tresholds= precision_recall_curve(Y_test, y_proba_mlp)\n",
    "\n",
    "plt.figure(figsize=(10,7))\n",
    "plt.plot(recall,precision,label='MLP Classifier')\n",
    "plt.xlabel('Recall (Sensibilidad)')\n",
    "plt.ylabel('Precision')\n",
    "plt.title('Curva Precision-Recall')\n",
    "plt.legend()\n",
    "plt.grid(True)\n",
    "plt.show()\n",
    "\n",
    "print(\"--- Fin de la Evaluación ---\")"
   ]
  },
  {
   "cell_type": "markdown",
   "id": "cedb64b8",
   "metadata": {},
   "source": [
    "Generación de Datos de Fraude"
   ]
  },
  {
   "cell_type": "code",
   "execution_count": 7,
   "id": "e69b195e",
   "metadata": {},
   "outputs": [
    {
     "name": "stdout",
     "output_type": "stream",
     "text": [
      "--- CADENA DE 'FRAUDE' REAL (DE X_TEST) ---\n",
      "Copie la línea de abajo y péguela en la celda interactiva:\n",
      "(Puede ejecutar esta celda varias veces para obtener ejemplos diferentes)\n",
      "\n",
      "\n",
      "-2.3122265423263,1.95199201064158,-1.60985073229769,3.9979055875468,-0.522187864667764,-1.42654531920595,-2.53738730624579,1.39165724829804,-2.77008927719433,-2.77227214465915,3.20203320709635,-2.89990738849473,-0.595221881324605,-4.28925378244217,0.389724120274487,-1.14074717980657,-2.83005567450437,-0.0168224681808257,0.416955705037907,0.126910559061474,0.517232370861764,-0.0350493686052974,-0.465211076182388,0.320198198514526,0.0445191674731724,0.177839798284401,0.261145002567677,-0.143275874698919,0.0\n"
     ]
    }
   ],
   "source": [
    "import random \n",
    "\n",
    "# (Asegúrese de que 'X_test' y 'Y_test' (con Y mayúscula) existan en la memoria)\n",
    "\n",
    "try:\n",
    "    # 1. Obtener todos los índices de transacciones 'Fraude' (Y_test == 1)\n",
    "    indices_fraude = Y_test[Y_test == 1].index\n",
    "    \n",
    "    if len(indices_fraude) == 0:\n",
    "        print(\"Error: No se encontraron fraudes en su 'Y_test'.\")\n",
    "    else:\n",
    "        # 2. Elegir un índice al azar de esa lista\n",
    "        indice_aleatorio = random.choice(indices_fraude)\n",
    "        \n",
    "        # 3. Obtener los datos de esa transacción desde X_test\n",
    "        datos_fraude = X_test.loc[indice_aleatorio]\n",
    "        \n",
    "        # 4. Convertir los 29 números en un string\n",
    "        string_fraude = ','.join(datos_fraude.astype(str).values)\n",
    "        \n",
    "        print(\"--- CADENA DE 'FRAUDE' REAL (DE X_TEST) ---\")\n",
    "        print(\"Copie la línea de abajo y péguela en la celda interactiva:\")\n",
    "        print(\"(Puede ejecutar esta celda varias veces para obtener ejemplos diferentes)\")\n",
    "        print(\"\\n\")\n",
    "        print(string_fraude)\n",
    "\n",
    "except NameError:\n",
    "    print(\"Error: Las variables 'X_test' o 'Y_test' no se encontraron.\")\n",
    "    print(\"Asegúrese de ejecutar primero la celda de 'División Train/Test'.\")\n",
    "except Exception as e:\n",
    "    print(f\"Un error inesperado ocurrió: {e}\")"
   ]
  },
  {
   "cell_type": "markdown",
   "id": "2d819dfa",
   "metadata": {},
   "source": [
    "Generación de datos NO FRAUDES"
   ]
  },
  {
   "cell_type": "code",
   "execution_count": 56,
   "id": "471b5a38",
   "metadata": {},
   "outputs": [
    {
     "name": "stdout",
     "output_type": "stream",
     "text": [
      "--- CADENA DE 'NO FRAUDE' REAL (DE X_TEST) ---\n",
      "Copie la línea de abajo y péguela en la celda interactiva:\n",
      "(Puede ejecutar esta celda varias veces para obtener ejemplos diferentes)\n",
      "\n",
      "\n",
      "-0.855575128693034,-0.100130500895429,-0.303667595535437,-0.329374191798502,1.0126057275137,0.411710008554775,1.26120800078087,-0.1972657856417,0.617687955855975,-0.816793624570537,0.149362873598034,0.311329553556984,-0.776424270636675,-1.76751120234073,-2.5083665279137,-0.0687660659242498,0.620187737132499,0.178047247478828,0.724656741833659,-0.424186270234371,-0.43669663380021,-0.465207443513433,0.533170023020923,0.13354918768231,-0.863009415485152,0.0718046930480881,-0.0246230872109141,-0.0767729246170503,130.68\n"
     ]
    }
   ],
   "source": [
    "import random \n",
    "\n",
    "# (Asegúrese de que 'X_test' y 'Y_test' (con Y mayúscula) existan en la memoria)\n",
    "\n",
    "try:\n",
    "    # 1. Obtener todos los índices de transacciones 'No Fraude' (Y_test == 0)\n",
    "    indices_no_fraude = Y_test[Y_test == 0].index\n",
    "    \n",
    "    # 2. Elegir un índice al azar de esa lista\n",
    "    indice_aleatorio = random.choice(indices_no_fraude)\n",
    "    \n",
    "    # 3. Obtener los datos de esa transacción desde X_test\n",
    "    datos_no_fraude = X_test.loc[indice_aleatorio]\n",
    "    \n",
    "    # 4. Convertir los 29 números en un string\n",
    "    string_no_fraude = ','.join(datos_no_fraude.astype(str).values)\n",
    "    \n",
    "    print(\"--- CADENA DE 'NO FRAUDE' REAL (DE X_TEST) ---\")\n",
    "    print(\"Copie la línea de abajo y péguela en la celda interactiva:\")\n",
    "    print(\"(Puede ejecutar esta celda varias veces para obtener ejemplos diferentes)\")\n",
    "    print(\"\\n\")\n",
    "    print(string_no_fraude)\n",
    "\n",
    "except NameError:\n",
    "    print(\"Error: Las variables 'X_test' o 'Y_test' no se encontraron.\")\n",
    "    print(\"Asegúrese de ejecutar primero la celda de 'División Train/Test'.\")\n",
    "except Exception as e:\n",
    "    print(f\"Un error inesperado ocurrió: {e}\")"
   ]
  },
  {
   "cell_type": "code",
   "execution_count": 8,
   "id": "a47783db",
   "metadata": {},
   "outputs": [
    {
     "name": "stdout",
     "output_type": "stream",
     "text": [
      "Modelo y Scaler cargados exitosamente.\n"
     ]
    }
   ],
   "source": [
    "\n",
    "import joblib\n",
    "import numpy as np\n",
    "\n",
    "# --- 1. Cargar Artefactos ---\n",
    "try:\n",
    "    model = joblib.load('modelo_mlp_fraude.joblib')\n",
    "    scaler = joblib.load('scaler_fraude.joblib')\n",
    "    print(\"Modelo y Scaler cargados exitosamente.\")\n",
    "except FileNotFoundError:\n",
    "    print(\"Error: No se encontraron los archivos .joblib.\")\n",
    "    "
   ]
  },
  {
   "cell_type": "code",
   "execution_count": 9,
   "id": "c27b72e6",
   "metadata": {},
   "outputs": [
    {
     "name": "stdout",
     "output_type": "stream",
     "text": [
      "\n",
      "--- Sistema de Prueba de Inferencia (Formato Corregido) ---\n",
      "Pegue la cadena de 29 números (V1-V28, Amount) separados por comas:\n",
      "(Busque la caja de entrada en la PARTE SUPERIOR de VS Code)\n",
      "\n",
      "--- VEREDICTO ---\n",
      "🚨 ¡FRAUDE DETECTADO! (Confianza: 100.00%, Umbral: 20%)\n"
     ]
    }
   ],
   "source": [
    "# --- 2. Función de Inferencia (CORREGIDA) ---\n",
    "def predecir_transaccion(transaccion_data, scaler_cargado, model_cargado, umbral=0.20):\n",
    "    \n",
    "    if len(transaccion_data) != 29:\n",
    "        return f\"Error: Se esperaban 29 características, pero se recibieron {len(transaccion_data)}.\"\n",
    "    \n",
    "    # --- CAMBIO 2: RECONSTRUIR EL DATAFRAME CON NOMBRES ---\n",
    "    # Definir los 29 nombres de columnas exactos\n",
    "    feature_names = [f'V{i}' for i in range(1, 29)] + ['Amount']\n",
    "    \n",
    "    # Convertir la lista de entrada en un DataFrame de 1 fila CON los nombres\n",
    "    transaccion_df = pd.DataFrame([transaccion_data], columns=feature_names)\n",
    "    # ---------------------------------------------------\n",
    "    \n",
    "    try:\n",
    "        # --- CAMBIO 3: Escalar el DataFrame (no el array) ---\n",
    "        transaccion_escalada = scaler_cargado.transform(transaccion_df)\n",
    "        \n",
    "    except Exception as e:\n",
    "        return f\"Error al escalar datos: {e}\" \n",
    "        \n",
    "    # El resto de la predicción funciona igual\n",
    "    probabilidades = model_cargado.predict_proba(transaccion_escalada)\n",
    "    prob_fraude = probabilidades[0][1]\n",
    "    \n",
    "    if prob_fraude > umbral:\n",
    "        return f\"🚨 ¡FRAUDE DETECTADO! (Confianza: {prob_fraude:.2%}, Umbral: {umbral:.0%})\"\n",
    "    else:\n",
    "        return f\"✅ Transacción Normal (Probabilidad de Fraude: {prob_fraude:.2%}, Umbral: {umbral:.0%})\"\n",
    "\n",
    "# --- 3. Lógica de Entrada Interactiva (Sin cambios) ---\n",
    "print(\"\\n--- Sistema de Prueba de Inferencia (Formato Corregido) ---\")\n",
    "print(\"Pegue la cadena de 29 números (V1-V28, Amount) separados por comas:\")\n",
    "print(\"(Busque la caja de entrada en la PARTE SUPERIOR de VS Code)\")\n",
    "\n",
    "datos_input = input()\n",
    "\n",
    "try:\n",
    "    transaccion_lista = [float(valor.strip()) for valor in datos_input.split(',')]\n",
    "    \n",
    "    if 'model' in locals() and 'scaler' in locals():\n",
    "        resultado = predecir_transaccion(transaccion_lista, scaler, model)\n",
    "        print(\"\\n--- VEREDICTO ---\")\n",
    "        print(resultado)\n",
    "    else:\n",
    "        print(\"Error: El modelo o el scaler no se cargaron correctamente.\")\n",
    "\n",
    "except ValueError:\n",
    "    print(\"\\nError: Formato inválido. Asegúrese de ingresar solo números separados por comas.\")\n",
    "except Exception as e:\n",
    "    print(f\"\\nUn error inesperado ocurrió: {e}\")"
   ]
  }
 ],
 "metadata": {
  "kernelspec": {
   "display_name": ".venv",
   "language": "python",
   "name": "python3"
  },
  "language_info": {
   "codemirror_mode": {
    "name": "ipython",
    "version": 3
   },
   "file_extension": ".py",
   "mimetype": "text/x-python",
   "name": "python",
   "nbconvert_exporter": "python",
   "pygments_lexer": "ipython3",
   "version": "3.12.10"
  }
 },
 "nbformat": 4,
 "nbformat_minor": 5
}
